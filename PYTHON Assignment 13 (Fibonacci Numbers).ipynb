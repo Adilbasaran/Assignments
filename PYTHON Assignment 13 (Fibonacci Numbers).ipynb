{
 "cells": [
  {
   "cell_type": "code",
   "execution_count": null,
   "metadata": {},
   "outputs": [],
   "source": [
    "Task : Create a list consisting of Fibonacci numbers from 1 to 55 using control flow statements.\n",
    "\n",
    "The desired output is like :\n",
    "\n",
    "fibonacci →  [1, 1, 2, 3, 5, 8, 13, 21, 34, 55]"
   ]
  },
  {
   "cell_type": "code",
   "execution_count": 2,
   "metadata": {
    "tags": []
   },
   "outputs": [
    {
     "output_type": "stream",
     "name": "stdout",
     "text": "[1, 1, 2, 3, 5, 8, 13, 21, 34, 55]\n"
    }
   ],
   "source": [
    "alfa=1\n",
    "bravo=[1]\n",
    "charlie=0\n",
    "while alfa<=55:\n",
    "    bravo.append(alfa)\n",
    "    alfa=int(bravo[charlie+1])+int(bravo[charlie])\n",
    "    charlie+=1      \n",
    "print(bravo)"
   ]
  }
 ],
 "metadata": {
  "language_info": {
   "codemirror_mode": {
    "name": "ipython",
    "version": 3
   },
   "file_extension": ".py",
   "mimetype": "text/x-python",
   "name": "python",
   "nbconvert_exporter": "python",
   "pygments_lexer": "ipython3",
   "version": 3
  },
  "orig_nbformat": 2,
  "kernelspec": {
   "name": "python_defaultSpec_1594549307703",
   "display_name": "Python 3.7.1 64-bit"
  }
 },
 "nbformat": 4,
 "nbformat_minor": 2
}