{
 "cells": [
  {
   "cell_type": "code",
   "execution_count": null,
   "metadata": {},
   "outputs": [],
   "source": [
    "Task : Print the FizzBuzz numbers.\n",
    "\n",
    "FizzBuzz is a famous code challenge used in interviews to test basic programming skills. It's time to write your own implementation.\n",
    "Print numbers from 1 to 100 inclusively following these instructions:\n",
    "if a number is multiple of 3, print \"Fizz\" instead of this number,\n",
    "if a number is multiple of 5, print \"Buzz\" instead of this number,\n",
    "for numbers that are multiples of both 3 and 5, print \"FizzBuzz\",\n",
    "print the rest of the numbers unchanged.\n",
    "Output each value on a separate line."
   ]
  },
  {
   "cell_type": "code",
   "execution_count": 5,
   "metadata": {
    "tags": []
   },
   "outputs": [
    {
     "output_type": "stream",
     "name": "stdout",
     "text": "1\n2\nfizz\n4\nBuzz\nfizz\n7\n8\nfizz\nBuzz\n11\nfizz\n13\n14\nFizzBuzz\n16\n17\nfizz\n19\nBuzz\nfizz\n22\n23\nfizz\nBuzz\n26\nfizz\n28\n29\nFizzBuzz\n31\n32\nfizz\n34\nBuzz\nfizz\n37\n38\nfizz\nBuzz\n41\nfizz\n43\n44\nFizzBuzz\n46\n47\nfizz\n49\nBuzz\nfizz\n52\n53\nfizz\nBuzz\n56\nfizz\n58\n59\nFizzBuzz\n61\n62\nfizz\n64\nBuzz\nfizz\n67\n68\nfizz\nBuzz\n71\nfizz\n73\n74\nFizzBuzz\n76\n77\nfizz\n79\nBuzz\nfizz\n82\n83\nfizz\nBuzz\n86\nfizz\n88\n89\nFizzBuzz\n91\n92\nfizz\n94\nBuzz\nfizz\n97\n98\nfizz\nBuzz\n"
    }
   ],
   "source": [
    "for a in range(1,101):\n",
    "    if a%3==0:\n",
    "        if a%5==0:\n",
    "            print(\"FizzBuzz\")\n",
    "        else:\n",
    "            print(\"fizz\")\n",
    "    elif a%5==0:\n",
    "        if a%3==0:\n",
    "            print(\"FizzBuzz\")\n",
    "        else:\n",
    "            print(\"Buzz\") \n",
    "    else:\n",
    "        print(a)"
   ]
  }
 ],
 "metadata": {
  "language_info": {
   "codemirror_mode": {
    "name": "ipython",
    "version": 3
   },
   "file_extension": ".py",
   "mimetype": "text/x-python",
   "name": "python",
   "nbconvert_exporter": "python",
   "pygments_lexer": "ipython3",
   "version": "3.7.1-final"
  },
  "orig_nbformat": 2,
  "kernelspec": {
   "name": "python37164bit84562d7a84c04900b6a9df9a5095ec2c",
   "display_name": "Python 3.7.1 64-bit"
  }
 },
 "nbformat": 4,
 "nbformat_minor": 2
}