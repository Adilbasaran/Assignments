{
 "cells": [
  {
   "cell_type": "code",
   "execution_count": null,
   "metadata": {},
   "outputs": [],
   "source": [
    "Task:\n",
    "\n",
    "Count the number of each letter in a sentence.\n",
    "The department you work for undertook a project construction that makes word / text analysis. You are asked to calculate the number of letters or any chars in the sentences entered under this project.\n",
    "Write a Python program that;\n",
    "1.takes a sentence from the user,\n",
    "2.counts the number of each letter of the sentence,\n",
    "3.collects the letters/chars as a key and the counted numbers as a value in a dictionary."
   ]
  },
  {
   "cell_type": "code",
   "execution_count": 2,
   "metadata": {
    "tags": []
   },
   "outputs": [
    {
     "output_type": "stream",
     "name": "stdout",
     "text": "{'S': 1, 'u': 4, 'r': 5, 'o': 8, 'n': 3, 'd': 1, ' ': 11, 'y': 3, 's': 1, 'e': 5, 'l': 4, 'f': 2, 'w': 2, 'i': 4, 't': 3, 'h': 4, 'p': 2, 'a': 1, 'g': 3, '.': 1}\n"
    }
   ],
   "source": [
    "word =  \"Surround yourself with only people who are going to lift you higher.\"\n",
    "sentence = {}\n",
    "for i in word:\n",
    "    keys = sentence.keys()\n",
    "    if i in keys:\n",
    "        sentence[i] += 1\n",
    "    else:\n",
    "        sentence[i] = 1\n",
    "print(sentence)"
   ]
  }
 ],
 "metadata": {
  "language_info": {
   "codemirror_mode": {
    "name": "ipython",
    "version": 3
   },
   "file_extension": ".py",
   "mimetype": "text/x-python",
   "name": "python",
   "nbconvert_exporter": "python",
   "pygments_lexer": "ipython3",
   "version": "3.7.1-final"
  },
  "orig_nbformat": 2,
  "kernelspec": {
   "name": "python37164bit84562d7a84c04900b6a9df9a5095ec2c",
   "display_name": "Python 3.7.1 64-bit"
  }
 },
 "nbformat": 4,
 "nbformat_minor": 2
}